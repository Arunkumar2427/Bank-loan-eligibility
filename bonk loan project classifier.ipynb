{
 "cells": [
  {
   "cell_type": "code",
   "execution_count": 1,
   "id": "24b7038f",
   "metadata": {},
   "outputs": [],
   "source": [
    "import pandas as pd\n",
    "import numpy as np\n",
    "from sklearn.linear_model import LogisticRegression\n",
    "from sklearn.neighbors import KNeighborsClassifier\n",
    "from sklearn.svm import SVC\n",
    "from sklearn.metrics import accuracy_score, confusion_matrix, ConfusionMatrixDisplay\n",
    "from sklearn.tree import DecisionTreeClassifier\n",
    "from sklearn.ensemble import RandomForestClassifier, GradientBoostingClassifier, AdaBoostClassifier\n",
    "import matplotlib.pyplot as plt\n",
    "import seaborn as sns\n",
    "import warnings\n",
    "from sklearn.model_selection import cross_val_score, train_test_split, GridSearchCV\n",
    "from joblib import dump"
   ]
  },
  {
   "cell_type": "code",
   "execution_count": 2,
   "id": "195266a5",
   "metadata": {},
   "outputs": [],
   "source": [
    "warnings.simplefilter(\"ignore\")"
   ]
  },
  {
   "cell_type": "code",
   "execution_count": 3,
   "id": "135da8c8",
   "metadata": {},
   "outputs": [],
   "source": [
    "df = pd.read_csv(\"LoanData.csv\")"
   ]
  },
  {
   "cell_type": "code",
   "execution_count": 4,
   "id": "26e17686",
   "metadata": {},
   "outputs": [],
   "source": [
    "df1 =df.copy()\n"
   ]
  },
  {
   "cell_type": "code",
   "execution_count": null,
   "id": "4d04b2e1",
   "metadata": {},
   "outputs": [],
   "source": [
    "df1.info()"
   ]
  },
  {
   "cell_type": "markdown",
   "id": "08ccc495",
   "metadata": {},
   "source": [
    "# 1.Business Problem Understanding"
   ]
  },
  {
   "cell_type": "markdown",
   "id": "07ec66b0",
   "metadata": {},
   "source": [
    "It is a home loan elegibality prediction\n",
    "The dataset has 12 columns which indicates the details of a users who are applied for loan\n",
    "problem is check to basing on therir user provided details whether they are eligible or not"
   ]
  },
  {
   "cell_type": "code",
   "execution_count": null,
   "id": "1afba8b3",
   "metadata": {},
   "outputs": [],
   "source": [
    "df1"
   ]
  },
  {
   "cell_type": "code",
   "execution_count": 7,
   "id": "c14dbf2d",
   "metadata": {},
   "outputs": [],
   "source": [
    "inp = df1.drop(\"Loan_Status\",axis  = 1)\n",
    "out = df1[\"Loan_Status\"]"
   ]
  },
  {
   "cell_type": "code",
   "execution_count": null,
   "id": "37cc7147",
   "metadata": {},
   "outputs": [],
   "source": [
    "inp,out"
   ]
  },
  {
   "cell_type": "code",
   "execution_count": 9,
   "id": "9933d841",
   "metadata": {},
   "outputs": [],
   "source": [
    "df1.drop(columns = \"Loan_ID\",inplace=True)"
   ]
  },
  {
   "cell_type": "markdown",
   "id": "ca9374b7",
   "metadata": {},
   "source": [
    "i checked all the column names they are all as of the syntax"
   ]
  },
  {
   "cell_type": "markdown",
   "id": "88996a11",
   "metadata": {},
   "source": [
    "# 2.Data Understanding"
   ]
  },
  {
   "cell_type": "markdown",
   "id": "65343ec6",
   "metadata": {},
   "source": [
    "## Data Exploration"
   ]
  },
  {
   "cell_type": "code",
   "execution_count": null,
   "id": "9080cec7",
   "metadata": {},
   "outputs": [],
   "source": [
    "df1"
   ]
  },
  {
   "cell_type": "markdown",
   "id": "613ce660",
   "metadata": {},
   "source": [
    "The given data set has 12 variables and  614 records"
   ]
  },
  {
   "cell_type": "code",
   "execution_count": null,
   "id": "d8daa763",
   "metadata": {},
   "outputs": [],
   "source": [
    "df1.info()"
   ]
  },
  {
   "cell_type": "code",
   "execution_count": null,
   "id": "b1f89420",
   "metadata": {},
   "outputs": [],
   "source": [
    "df1[\"Credit_History\"].unique()"
   ]
  },
  {
   "cell_type": "code",
   "execution_count": 13,
   "id": "84871af0",
   "metadata": {},
   "outputs": [],
   "source": [
    "discrete_catogery = [\"Gender\",\"Married\",\"Education\",\"Self_Employed\",\"Credit_History\",\"Property_Area\",\"Loan_Status\"]\n",
    "discrete_count = [\"Dependents\",\"Loan_Amount_Term\"]\n",
    "continous = [\"ApplicantIncome\",\"CoapplicantIncome\",\"LoanAmount\"]"
   ]
  },
  {
   "cell_type": "code",
   "execution_count": null,
   "id": "1ea3fc0d",
   "metadata": {},
   "outputs": [],
   "source": [
    "df1[continous+discrete_catogery+discrete_count]"
   ]
  },
  {
   "cell_type": "code",
   "execution_count": null,
   "id": "7186adc5",
   "metadata": {},
   "outputs": [],
   "source": [
    "df1.isnull().sum(),df1.isnull().sum().sum()"
   ]
  },
  {
   "cell_type": "code",
   "execution_count": null,
   "id": "9d53f4ea",
   "metadata": {},
   "outputs": [],
   "source": [
    "df1[discrete_catogery].describe()"
   ]
  },
  {
   "cell_type": "code",
   "execution_count": null,
   "id": "636ab5bd",
   "metadata": {},
   "outputs": [],
   "source": [
    "df1.dtypes"
   ]
  },
  {
   "cell_type": "code",
   "execution_count": null,
   "id": "137713e1",
   "metadata": {},
   "outputs": [],
   "source": [
    "df1[\"Self_Employed\"].unique()"
   ]
  },
  {
   "cell_type": "code",
   "execution_count": null,
   "id": "b5cd97c1",
   "metadata": {},
   "outputs": [],
   "source": [
    "df1[\"Dependents\"].unique()"
   ]
  },
  {
   "cell_type": "code",
   "execution_count": null,
   "id": "d6bbf3e6",
   "metadata": {},
   "outputs": [],
   "source": [
    "df1[discrete_catogery].nunique()"
   ]
  },
  {
   "cell_type": "code",
   "execution_count": null,
   "id": "8664aeb1",
   "metadata": {},
   "outputs": [],
   "source": [
    "df1.isnull().sum()"
   ]
  },
  {
   "cell_type": "code",
   "execution_count": null,
   "id": "8e8f8a36",
   "metadata": {},
   "outputs": [],
   "source": [
    "df1[\"Gender\"].unique()"
   ]
  },
  {
   "cell_type": "code",
   "execution_count": null,
   "id": "2f731638",
   "metadata": {},
   "outputs": [],
   "source": [
    "df1[\"Married\"].unique()"
   ]
  },
  {
   "cell_type": "code",
   "execution_count": null,
   "id": "acdcb15f",
   "metadata": {},
   "outputs": [],
   "source": [
    "df1[\"Married\"].value_counts()"
   ]
  },
  {
   "cell_type": "code",
   "execution_count": null,
   "id": "e5f0d128",
   "metadata": {},
   "outputs": [],
   "source": [
    "df1[\"Loan_Status\"].unique()"
   ]
  },
  {
   "cell_type": "code",
   "execution_count": null,
   "id": "68af20fd",
   "metadata": {},
   "outputs": [],
   "source": [
    "df1[\"Property_Area\"].unique()"
   ]
  },
  {
   "cell_type": "markdown",
   "id": "3993e653",
   "metadata": {},
   "source": [
    "### Exploratary Data Analysis "
   ]
  },
  {
   "cell_type": "code",
   "execution_count": null,
   "id": "a9217770",
   "metadata": {},
   "outputs": [],
   "source": [
    "df1[discrete_catogery]"
   ]
  },
  {
   "cell_type": "code",
   "execution_count": 28,
   "id": "86b3fe53",
   "metadata": {},
   "outputs": [],
   "source": [
    "plt.rcdefaults()"
   ]
  },
  {
   "cell_type": "code",
   "execution_count": null,
   "id": "0ccbba2f",
   "metadata": {},
   "outputs": [],
   "source": [
    "plt.figure(figsize=(18,8))\n",
    "for i,j in zip(range(1,8),discrete_catogery):\n",
    "    plt.title(j)\n",
    "    plt.pie(x=df1[j].value_counts(),labels = df1[j].value_counts().index.tolist())\n",
    "    plt.subplot(4,2,i)\n",
    "plt.tight_layout()\n",
    "plt.show()\n",
    "    "
   ]
  },
  {
   "cell_type": "code",
   "execution_count": null,
   "id": "f57330c9",
   "metadata": {},
   "outputs": [],
   "source": [
    "plt.pie(x=df1[\"Gender\"].value_counts(),labels = df1[\"Gender\"].value_counts().index.tolist())\n",
    "plt.show()"
   ]
  },
  {
   "cell_type": "code",
   "execution_count": 31,
   "id": "5469a441",
   "metadata": {},
   "outputs": [],
   "source": [
    "plt.rcParams['figure.figsize'] = (10,5)"
   ]
  },
  {
   "cell_type": "code",
   "execution_count": null,
   "id": "695f1940",
   "metadata": {},
   "outputs": [],
   "source": [
    "plt.subplot(1,2,1)\n",
    "sns.countplot(x=df1[\"Dependents\"])\n",
    "plt.subplot(1,2,2)\n",
    "sns.countplot(x=df1[\"Loan_Amount_Term\"])\n",
    "plt.tight_layout()\n",
    "plt.show()"
   ]
  },
  {
   "cell_type": "code",
   "execution_count": null,
   "id": "6d437a8b",
   "metadata": {},
   "outputs": [],
   "source": [
    "df1[continous]"
   ]
  },
  {
   "cell_type": "code",
   "execution_count": null,
   "id": "9d7702c4",
   "metadata": {},
   "outputs": [],
   "source": [
    "for i,j in zip(range(1,4),continous):\n",
    "    plt.subplot(1,3,i)\n",
    "    sns.histplot(df1[j])\n",
    "    plt.gca().set_facecolor('pink')\n",
    "\n",
    "plt.tight_layout()\n",
    "plt.show()"
   ]
  },
  {
   "cell_type": "code",
   "execution_count": null,
   "id": "2be13e0a",
   "metadata": {},
   "outputs": [],
   "source": [
    "s1 =sns.pairplot(df1[continous])\n",
    "s1.square_grid =True\n",
    "plt.show()"
   ]
  },
  {
   "cell_type": "code",
   "execution_count": null,
   "id": "eff9c81d",
   "metadata": {
    "scrolled": false
   },
   "outputs": [],
   "source": [
    "for i,j in zip(range(1,8),continous):\n",
    "    plt.subplot(1,3,i)\n",
    "    sns.boxplot(y=df1[j])\n",
    "plt.tight_layout()\n",
    "plt.show()"
   ]
  },
  {
   "cell_type": "code",
   "execution_count": null,
   "id": "7f8b847f",
   "metadata": {},
   "outputs": [],
   "source": [
    "sns.heatmap(df1[continous].corr(),annot =True)\n",
    "plt.show()"
   ]
  },
  {
   "cell_type": "markdown",
   "id": "322fb496",
   "metadata": {},
   "source": [
    "# 3.Data Preparaion"
   ]
  },
  {
   "cell_type": "markdown",
   "id": "d2458e00",
   "metadata": {},
   "source": [
    "Treating wrong data"
   ]
  },
  {
   "cell_type": "code",
   "execution_count": null,
   "id": "e1f6d513",
   "metadata": {},
   "outputs": [],
   "source": [
    "df1[discrete_catogery].isnull().sum()"
   ]
  },
  {
   "cell_type": "code",
   "execution_count": null,
   "id": "66168366",
   "metadata": {},
   "outputs": [],
   "source": [
    "df1[\"Dependents\"]"
   ]
  },
  {
   "cell_type": "code",
   "execution_count": 40,
   "id": "0c256244",
   "metadata": {},
   "outputs": [],
   "source": [
    "df1[\"Dependents\"].replace({\"3+\":3},inplace=True)"
   ]
  },
  {
   "cell_type": "code",
   "execution_count": 41,
   "id": "fe726c91",
   "metadata": {},
   "outputs": [],
   "source": [
    "df1[\"income\"] = df1[\"ApplicantIncome\"] + df1[\"CoapplicantIncome\"]\n",
    "df1.drop(columns=[\"ApplicantIncome\",\"CoapplicantIncome\"],inplace=True)"
   ]
  },
  {
   "cell_type": "code",
   "execution_count": null,
   "id": "9a0fdc7a",
   "metadata": {},
   "outputs": [],
   "source": [
    "df1"
   ]
  },
  {
   "cell_type": "code",
   "execution_count": null,
   "id": "2e47e22c",
   "metadata": {},
   "outputs": [],
   "source": [
    "df1[\"Gender\"].isnull().sum()"
   ]
  },
  {
   "cell_type": "code",
   "execution_count": 44,
   "id": "587a7617",
   "metadata": {},
   "outputs": [],
   "source": [
    "df1[\"Gender\"].fillna(df1[\"Gender\"].mode()[0],inplace=True)"
   ]
  },
  {
   "cell_type": "code",
   "execution_count": 45,
   "id": "16e8ee44",
   "metadata": {},
   "outputs": [],
   "source": [
    "df1[\"Married\"].fillna(df1[\"Married\"].mode()[0],inplace=True)"
   ]
  },
  {
   "cell_type": "code",
   "execution_count": 46,
   "id": "19a7edf7",
   "metadata": {},
   "outputs": [],
   "source": [
    "df1[\"Self_Employed\"].fillna(df1[\"Self_Employed\"].mode()[0],inplace=True)"
   ]
  },
  {
   "cell_type": "markdown",
   "id": "58f1a63a",
   "metadata": {},
   "source": [
    "for continous and basing on the business problem it is not recommended to replace the on contious data and one column credicthistory"
   ]
  },
  {
   "cell_type": "code",
   "execution_count": null,
   "id": "f177aec3",
   "metadata": {},
   "outputs": [],
   "source": [
    "df1[[\"LoanAmount\",\"Loan_Amount_Term\",\"income\"]].isnull().sum()"
   ]
  },
  {
   "cell_type": "code",
   "execution_count": 48,
   "id": "d144793a",
   "metadata": {},
   "outputs": [],
   "source": [
    "df1.dropna(subset = [\"LoanAmount\",\"Loan_Amount_Term\",\"Credit_History\"],inplace=True)"
   ]
  },
  {
   "cell_type": "code",
   "execution_count": null,
   "id": "644577bb",
   "metadata": {},
   "outputs": [],
   "source": [
    "df1.isnull().sum()"
   ]
  },
  {
   "cell_type": "code",
   "execution_count": 50,
   "id": "e939f6d7",
   "metadata": {},
   "outputs": [],
   "source": [
    "df1[\"Dependents\"].fillna(0,inplace=True)"
   ]
  },
  {
   "cell_type": "code",
   "execution_count": null,
   "id": "3d71987a",
   "metadata": {},
   "outputs": [],
   "source": [
    "df1.isnull().sum()"
   ]
  },
  {
   "cell_type": "code",
   "execution_count": null,
   "id": "e16c10cd",
   "metadata": {},
   "outputs": [],
   "source": [
    "df1"
   ]
  },
  {
   "cell_type": "code",
   "execution_count": null,
   "id": "065440cf",
   "metadata": {},
   "outputs": [],
   "source": [
    "df1['Property_Area'].unique()"
   ]
  },
  {
   "cell_type": "code",
   "execution_count": 54,
   "id": "95d32fcc",
   "metadata": {},
   "outputs": [],
   "source": [
    "df1[\"Gender\"].replace({\"Male\":1,\"Female\":0},inplace=True)\n",
    "df1[\"Married\"].replace({\"Yes\":1,\"No\":0},inplace=True)\n",
    "df1[\"Education\"].replace({\"Graduate\":1,\"Not Graduate\":0},inplace=True)\n",
    "df1[\"Self_Employed\"].replace({\"Yes\":1,\"No\":0},inplace=True)\n",
    "df1[\"Property_Area\"].replace({\"Rural\":0,\"Semiurban\":1,\"Urban\":2},inplace=True)\n",
    "df1[\"Married\"].replace({\"Yes\":1,\"No\":0},inplace=True)\n",
    "df1[\"Loan_Status\"].replace({\"Y\":1,\"N\":0},inplace=True)"
   ]
  },
  {
   "cell_type": "code",
   "execution_count": null,
   "id": "7d95c232",
   "metadata": {},
   "outputs": [],
   "source": [
    "df1.dtypes"
   ]
  },
  {
   "cell_type": "code",
   "execution_count": 56,
   "id": "96a2db12",
   "metadata": {},
   "outputs": [],
   "source": [
    "df1[\"Dependents\"]=df1[\"Dependents\"].astype('int') "
   ]
  },
  {
   "cell_type": "code",
   "execution_count": null,
   "id": "15481659",
   "metadata": {},
   "outputs": [],
   "source": [
    "df1[\"Dependents\"].unique()"
   ]
  },
  {
   "cell_type": "code",
   "execution_count": 58,
   "id": "884498d3",
   "metadata": {},
   "outputs": [],
   "source": [
    "df1.to_csv(\"data.csv\")"
   ]
  },
  {
   "cell_type": "code",
   "execution_count": 59,
   "id": "83aed1ab",
   "metadata": {},
   "outputs": [],
   "source": [
    "X = df1.drop(\"Loan_Status\",axis=1)\n",
    "y = df1[\"Loan_Status\"]"
   ]
  },
  {
   "cell_type": "code",
   "execution_count": 60,
   "id": "6f7f751b",
   "metadata": {},
   "outputs": [],
   "source": [
    " x_train,x_test,y_train,y_test = train_test_split(X,y,random_state=93)"
   ]
  },
  {
   "cell_type": "markdown",
   "id": "75c456c5",
   "metadata": {},
   "source": [
    "### Logestic Model"
   ]
  },
  {
   "cell_type": "code",
   "execution_count": null,
   "id": "c4aa1fd1",
   "metadata": {},
   "outputs": [],
   "source": [
    "model_lr  = LogisticRegression()\n",
    "model_lr.fit(x_train,y_train)\n",
    "print(\"Train :\",model_lr.score(x_train,y_train))\n",
    "print(\"Test :\",model_lr.score(x_test,y_test))\n",
    "print(\"CV :\",cross_val_score(model_lr,x_train,y_train,scoring=\"accuracy\",cv= 5).mean(),\"\\n\\n\")"
   ]
  },
  {
   "cell_type": "markdown",
   "id": "38528e16",
   "metadata": {},
   "source": [
    "### KNN model "
   ]
  },
  {
   "cell_type": "markdown",
   "id": "4050f278",
   "metadata": {},
   "source": [
    "Finding best params"
   ]
  },
  {
   "cell_type": "code",
   "execution_count": null,
   "id": "57a8a73c",
   "metadata": {},
   "outputs": [],
   "source": [
    "e = KNeighborsClassifier()\n",
    "params = {\"n_neighbors\":range(1,100)}\n",
    "grid = GridSearchCV(e,param_grid=params,scoring=\"accuracy\",cv = 5)\n",
    "grid.fit(x_train,y_train)\n",
    "print(grid.best_params_)\n",
    "print(\"Best Estimator\",grid.best_estimator_)"
   ]
  },
  {
   "cell_type": "code",
   "execution_count": null,
   "id": "869764f6",
   "metadata": {},
   "outputs": [],
   "source": [
    "model_knn = KNeighborsClassifier(n_neighbors=13)\n",
    "model_knn.fit(x_train,y_train)\n",
    "print(\"Train :\",model_knn.score(x_train,y_train))\n",
    "print(\"Test :\",model_knn.score(x_test,y_test))\n",
    "print(\"CV :\",cross_val_score(model_knn,x_train,y_train,scoring=\"accuracy\",cv= 5).mean(),\"\\n\\n\")"
   ]
  },
  {
   "cell_type": "markdown",
   "id": "83e4dafc",
   "metadata": {},
   "source": [
    "### SVM model  "
   ]
  },
  {
   "cell_type": "code",
   "execution_count": null,
   "id": "9323681f",
   "metadata": {},
   "outputs": [],
   "source": [
    "e = SVC()\n",
    "params = {\"C\":[0.01,0.1,1],\"kernel\":['linear', 'poly', 'rbf', 'sigmoid']}\n",
    "grid = GridSearchCV(e,param_grid=params,scoring=\"accuracy\",cv = 5)\n",
    "grid.fit(x_train,y_train)\n",
    "print(grid.best_params_)\n",
    "print(\"Best Estimator\",grid.best_estimator_)"
   ]
  },
  {
   "cell_type": "code",
   "execution_count": null,
   "id": "f80c2acd",
   "metadata": {},
   "outputs": [],
   "source": [
    "model_svm = grid.best_estimator_\n",
    "model_knn.fit(x_train,y_train)\n",
    "print(\"Train :\",model_knn.score(x_train,y_train))\n",
    "print(\"Test :\",model_knn.score(x_test,y_test))\n",
    "print(\"CV :\",cross_val_score(model_knn,x_train,y_train,scoring=\"accuracy\",cv= 5).mean(),\"\\n\\n\")"
   ]
  },
  {
   "cell_type": "code",
   "execution_count": null,
   "id": "a17ad8fd",
   "metadata": {},
   "outputs": [],
   "source": [
    "e = DecisionTreeClassifier()\n",
    "params = {\"max_depth\":range(1,16),\"criterion\":[\"gini\",\"entropy\"]}\n",
    "grid = GridSearchCV(e,param_grid=params,scoring=\"accuracy\",cv = 5)\n",
    "grid.fit(x_train,y_train)\n",
    "print(grid.best_params_)\n",
    "print(\"Best Estimator\",grid.best_estimator_)"
   ]
  },
  {
   "cell_type": "code",
   "execution_count": null,
   "id": "1f99f369",
   "metadata": {},
   "outputs": [],
   "source": [
    "model_dt = DecisionTreeClassifier(max_depth=1,random_state=93)\n",
    "model_dt.fit(x_train,y_train)\n",
    "print(\"Train :\",model_dt.score(x_train,y_train))\n",
    "print(\"Test :\",model_dt.score(x_test,y_test))\n",
    "print(\"CV :\",cross_val_score(model_dt,x_train,y_train,scoring=\"accuracy\",cv= 5).mean(),\"\\n\\n\")"
   ]
  },
  {
   "cell_type": "code",
   "execution_count": 68,
   "id": "d5ae05e4",
   "metadata": {},
   "outputs": [],
   "source": [
    "a1  = grid.best_estimator_.feature_importances_"
   ]
  },
  {
   "cell_type": "code",
   "execution_count": 69,
   "id": "e38d46a2",
   "metadata": {},
   "outputs": [],
   "source": [
    "df2 = pd.DataFrame({\"columns\":X.columns},index=a1)"
   ]
  },
  {
   "cell_type": "code",
   "execution_count": null,
   "id": "fc4b5574",
   "metadata": {},
   "outputs": [],
   "source": [
    "df2[df2.index>=1]"
   ]
  },
  {
   "cell_type": "code",
   "execution_count": null,
   "id": "3c3f42b5",
   "metadata": {},
   "outputs": [],
   "source": [
    "X_imp = X[['Credit_History']]\n",
    "X_imp"
   ]
  },
  {
   "cell_type": "code",
   "execution_count": 72,
   "id": "ae8e9dd8",
   "metadata": {},
   "outputs": [],
   "source": [
    "x_train_dt,x_test_dt,y_train_dt,y_test_dt = train_test_split(X_imp,y,random_state=93)"
   ]
  },
  {
   "cell_type": "code",
   "execution_count": null,
   "id": "081b8159",
   "metadata": {},
   "outputs": [],
   "source": [
    "x_train_dt"
   ]
  },
  {
   "cell_type": "code",
   "execution_count": null,
   "id": "b4edac01",
   "metadata": {},
   "outputs": [],
   "source": [
    "model_dt = DecisionTreeClassifier(max_depth=1,random_state=93)\n",
    "model_dt.fit(x_train_dt,y_train_dt)\n",
    "print(\"Train :\",model_dt.score(x_train_dt,y_train_dt))\n",
    "print(\"Test :\",model_dt.score(x_test_dt,y_test_dt))\n",
    "print(\"CV :\",cross_val_score(model_dt,x_train,y_train,scoring=\"accuracy\",cv= 5).mean(),\"\\n\\n\")"
   ]
  },
  {
   "cell_type": "code",
   "execution_count": null,
   "id": "3cb67c16",
   "metadata": {},
   "outputs": [],
   "source": [
    "dump(model_dt,\"model.joblib\")"
   ]
  },
  {
   "cell_type": "code",
   "execution_count": null,
   "id": "de4983c4",
   "metadata": {},
   "outputs": [],
   "source": []
  }
 ],
 "metadata": {
  "kernelspec": {
   "display_name": "base",
   "language": "python",
   "name": "python3"
  },
  "language_info": {
   "codemirror_mode": {
    "name": "ipython",
    "version": 3
   },
   "file_extension": ".py",
   "mimetype": "text/x-python",
   "name": "python",
   "nbconvert_exporter": "python",
   "pygments_lexer": "ipython3",
   "version": "3.12.4"
  }
 },
 "nbformat": 4,
 "nbformat_minor": 5
}
